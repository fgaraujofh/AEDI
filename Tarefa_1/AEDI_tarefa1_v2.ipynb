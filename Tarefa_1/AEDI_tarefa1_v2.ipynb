{
 "cells": [
  {
   "cell_type": "code",
   "execution_count": 6,
   "id": "a8610885-72b8-415e-a493-8fae4e49e1c9",
   "metadata": {
    "tags": []
   },
   "outputs": [
    {
     "name": "stdout",
     "output_type": "stream",
     "text": [
      "Para ter uma chance de obter um lucro maior ou igual a 30%, o preço de venda deve ser de R$ 270.00 por unidade.\n"
     ]
    }
   ],
   "source": [
    "import numpy as np\n",
    "\n",
    "# Definir os parâmetros do problema\n",
    "custo_fixo = 10000\n",
    "custo_variavel = 100\n",
    "media_demanda = 500\n",
    "desvio_padrao_demanda = 100\n",
    "n_simulacoes = 100000\n",
    "meta_lucro = 0.3  # Meta de lucro de 30%\n",
    "\n",
    "# Função para calcular o lucro em uma simulação\n",
    "def simular_lucro(preco_venda):\n",
    "    demanda_simulada = np.random.normal(media_demanda, desvio_padrao_demanda)\n",
    "    demanda_simulada = max(demanda_simulada, 0)  # Demanda nunca pode ser negativa\n",
    "    custo_total = custo_fixo + demanda_simulada * custo_variavel\n",
    "    receita_total = demanda_simulada * preco_venda\n",
    "    lucro_total = receita_total - custo_total\n",
    "    return lucro_total\n",
    "\n",
    "# Realizar a simulação de Monte Carlo para diferentes preços de venda\n",
    "precos_venda = np.arange(100, 1000, 10)\n",
    "resultados_simulacao = []\n",
    "for preco_venda in precos_venda:\n",
    "    lucros_simulados = [simular_lucro(preco_venda) for i in range(n_simulacoes)]\n",
    "    proporcao_lucro_meta = sum([lucro >= meta_lucro * custo_fixo for lucro in lucros_simulados]) / n_simulacoes\n",
    "    resultados_simulacao.append(proporcao_lucro_meta)\n",
    "\n",
    "# Encontrar o menor preço de venda que atinge a meta de lucro\n",
    "preco_venda_meta = precos_venda[np.argmax(np.array(resultados_simulacao))]\n",
    "print(\"Para ter uma chance de obter um lucro maior ou igual a 30%, o preço de venda deve ser de R$ {:.2f} por unidade.\".format(preco_venda_meta))"
   ]
  }
 ],
 "metadata": {
  "kernelspec": {
   "display_name": "Python 3 (ipykernel)",
   "language": "python",
   "name": "python3"
  },
  "language_info": {
   "codemirror_mode": {
    "name": "ipython",
    "version": 3
   },
   "file_extension": ".py",
   "mimetype": "text/x-python",
   "name": "python",
   "nbconvert_exporter": "python",
   "pygments_lexer": "ipython3",
   "version": "3.10.11"
  }
 },
 "nbformat": 4,
 "nbformat_minor": 5
}
