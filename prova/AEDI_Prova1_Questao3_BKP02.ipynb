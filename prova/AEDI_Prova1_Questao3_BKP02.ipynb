{
 "cells": [
  {
   "cell_type": "code",
   "execution_count": null,
   "metadata": {},
   "outputs": [],
   "source": [
    "import pandas as pd\n",
    "import matplotlib.pyplot as plt\n",
    "import seaborn as sns\n",
    "from statsmodels.formula.api import ols\n",
    "from statsmodels.stats.anova import anova_lm\n",
    "from statsmodels.stats.multicomp import pairwise_tukeyhsd\n",
    "from scipy import stats\n",
    "from scipy import optimize\n",
    "from bioinfokit.analys import stat\n",
    "import statsmodels.api as sm\n",
    "import numpy as np\n",
    "from scipy.stats import mannwhitneyu\n",
    "from scipy.stats import wilcoxon\n",
    "from scipy.stats import kruskal"
   ]
  },
  {
   "attachments": {},
   "cell_type": "markdown",
   "metadata": {},
   "source": [
    "#### Ler dados do dataframe"
   ]
  },
  {
   "cell_type": "code",
   "execution_count": null,
   "metadata": {},
   "outputs": [],
   "source": [
    "cols = ['NumeroFatura', 'CodigoProduto', 'Descricao',\n",
    "        'Quantidade', 'DataFatura', 'PrecoUnitario',\n",
    "        'IDCliente', 'Pais']\n",
    "# Ler arquivoa CSV\n",
    "# df1 = pd.read_csv('ano_2009-2010.csv', encoding='latin1')\n",
    "df = pd.read_csv('ano_2010-2011.csv', encoding='latin1')\n",
    "\n",
    "# Concatenar os dois DataFrames\n",
    "# df = pd.concat([df1, df2], ignore_index=True)\n",
    "df.columns = cols\n",
    "\n",
    "# Imprimir o DataFrame resultante\n",
    "df"
   ]
  },
  {
   "attachments": {},
   "cell_type": "markdown",
   "metadata": {},
   "source": [
    "#### Realiza limpeza dos dados"
   ]
  },
  {
   "cell_type": "code",
   "execution_count": null,
   "metadata": {},
   "outputs": [],
   "source": [
    "# Exclui todas faturas canceladas\n",
    "df = df[~df['NumeroFatura'].str.startswith(('C', 'c'))]\n",
    "\n",
    "# Exclui linhas que tenham valor e quantidades menores ou igual a zero\n",
    "df = df[df[\"Quantidade\"] > 0]\n",
    "df = df[df[\"PrecoUnitario\"] > 0.0]\n",
    "\n",
    "df"
   ]
  },
  {
   "attachments": {},
   "cell_type": "markdown",
   "metadata": {},
   "source": [
    "#### Gera Dataframe com agrupamento"
   ]
  },
  {
   "cell_type": "code",
   "execution_count": null,
   "metadata": {},
   "outputs": [],
   "source": [
    "# cols_to_group = ['CodigoProduto', 'Pais']\n",
    "cols_to_group = ['Pais']\n",
    "df_final = df.groupby(cols_to_group).agg({\"Quantidade\": \"mean\", \"PrecoUnitario\": \"mean\"})\n",
    "df_final = df_final.reset_index()\n",
    "df_final = df_final.dropna()\n",
    "df_final"
   ]
  },
  {
   "cell_type": "code",
   "execution_count": null,
   "metadata": {},
   "outputs": [],
   "source": [
    "# Gráfico de barras para comparar o somat´0rio das quantidades entre os países\n",
    "plt.figure(figsize=(12, 6))\n",
    "sns.barplot(x='Pais', y='Quantidade', data=df_final, errorbar=None)\n",
    "plt.xticks(rotation=90)\n",
    "plt.title('Somatorio das Quantidades por País')\n",
    "plt.show()"
   ]
  },
  {
   "cell_type": "code",
   "execution_count": null,
   "metadata": {},
   "outputs": [],
   "source": [
    "# Gráfico de barras para comparar as médias dos preços entre os países\n",
    "plt.figure(figsize=(12, 6))\n",
    "sns.barplot(x='Pais', y='PrecoUnitario', data=df_final, errorbar=None)\n",
    "plt.xticks(rotation=90)\n",
    "plt.title('Médias dos Preços por País')\n",
    "plt.show()"
   ]
  },
  {
   "attachments": {},
   "cell_type": "markdown",
   "metadata": {},
   "source": [
    "#### Aferindo Normalidade"
   ]
  },
  {
   "cell_type": "code",
   "execution_count": null,
   "metadata": {},
   "outputs": [],
   "source": [
    "stats.probplot(df_final[\"Quantidade\"], dist=\"norm\", plot=plt)\n",
    "plt.show()\n",
    "stats.probplot(df_final[\"PrecoUnitario\"], dist=\"norm\", plot=plt)\n",
    "plt.show()\n"
   ]
  },
  {
   "attachments": {},
   "cell_type": "markdown",
   "metadata": {},
   "source": [
    "#### Prepara para aferição teste ANOVA"
   ]
  },
  {
   "cell_type": "code",
   "execution_count": null,
   "metadata": {},
   "outputs": [],
   "source": [
    "df_melt = pd.melt(df_final.drop(cols_to_group, axis=1))\n",
    "df_melt"
   ]
  },
  {
   "cell_type": "code",
   "execution_count": null,
   "metadata": {},
   "outputs": [],
   "source": [
    "# Ordinary Least Squares (OLS) model\n",
    "model = ols('value ~ variable', data=df_melt).fit()\n",
    "anova_table = sm.stats.anova_lm(model, typ=2)\n",
    "anova_table"
   ]
  },
  {
   "cell_type": "code",
   "execution_count": null,
   "metadata": {},
   "outputs": [],
   "source": [
    "res = stat()\n",
    "res.anova_stat(df_melt, res_var='value', anova_model='value ~ variable')\n",
    "res.anova_summary"
   ]
  },
  {
   "cell_type": "code",
   "execution_count": null,
   "metadata": {},
   "outputs": [],
   "source": [
    "df_melt['variable'] = df_melt['variable'].replace('Quantidade', '1')\n",
    "df_melt['variable'] = df_melt['variable'].replace('PrecoUnitario', '2')\n",
    "df_melt['variable'].unique()"
   ]
  },
  {
   "cell_type": "code",
   "execution_count": null,
   "metadata": {},
   "outputs": [],
   "source": [
    "res = stat()\n",
    "res.tukey_hsd(df_melt, res_var='value', xfac_var='variable', anova_model='value ~ variable')\n",
    "res.tukey_summary"
   ]
  },
  {
   "attachments": {},
   "cell_type": "markdown",
   "metadata": {},
   "source": [
    "#### Avaliação dos residuos"
   ]
  },
  {
   "cell_type": "code",
   "execution_count": null,
   "metadata": {},
   "outputs": [],
   "source": [
    "sm.qqplot(res.anova_std_residuals, line='45')\n",
    "plt.xlabel(\"Theoretical Quantiles\")\n",
    "plt.ylabel(\"Standardized Residuals\")\n",
    "plt.show()"
   ]
  },
  {
   "cell_type": "code",
   "execution_count": null,
   "metadata": {},
   "outputs": [],
   "source": [
    "plt.hist(res.anova_model_out.resid, bins='auto', histtype='bar', ec='k') \n",
    "plt.xlabel(\"Residuals\")\n",
    "plt.ylabel('Frequency')\n",
    "plt.xlim(-1000, 1000)\n",
    "plt.ylim(0, 1000)\n",
    "plt.show()"
   ]
  },
  {
   "cell_type": "code",
   "execution_count": null,
   "metadata": {},
   "outputs": [],
   "source": [
    "w, pvalue = stats.shapiro(model.resid)\n",
    "print('Statistics= %.3f, pvalue=%.3f' % (w, pvalue))\n",
    "# interpret\n",
    "alpha = 0.05\n",
    "if pvalue > alpha:\n",
    "\tprint('Resíduo com Distribuição Normal (Não rejeita H0)')\n",
    "else:\n",
    "\tprint('Diferente da Normal (rejeita H0)')"
   ]
  },
  {
   "cell_type": "code",
   "execution_count": null,
   "metadata": {},
   "outputs": [],
   "source": [
    "from scipy import stats\n",
    "\n",
    "# perform the Kolmogorov-Smirnov test on the residuals\n",
    "k_statistic, pvalue = stats.kstest(model.resid, 'norm')\n",
    "\n",
    "# print the results and interpret\n",
    "alpha = 0.05\n",
    "if pvalue > alpha:\n",
    "    print('Resíduo com Distribuição Normal (Não rejeita H0)')\n",
    "else:\n",
    "    print('Diferente da Normal (rejeita H0)')\n",
    "\n",
    "print('K-S Statistic= %.3f, pvalue=%.3f' % (k_statistic, pvalue))"
   ]
  },
  {
   "cell_type": "code",
   "execution_count": null,
   "metadata": {},
   "outputs": [],
   "source": [
    "w, pvalue = stats.bartlett(df_final['Quantidade'], df_final['PrecoUnitario'])\n",
    "print('Statistics= %.3f, pvalue=%.3f' % (w, pvalue))\n",
    "# interpret\n",
    "alpha = 0.05\n",
    "if pvalue > alpha:\n",
    "\tprint('Same Variance (Não rejeita H0)')\n",
    "else:\n",
    "\tprint('Different Variance (rejeita H0)')"
   ]
  },
  {
   "cell_type": "code",
   "execution_count": null,
   "metadata": {},
   "outputs": [],
   "source": [
    "res = stat()\n",
    "res.bartlett(df_melt, res_var='value', xfac_var='variable')\n",
    "res.bartlett_summary"
   ]
  },
  {
   "attachments": {},
   "cell_type": "markdown",
   "metadata": {},
   "source": [
    "#### Não paramétrico Testes -> Mann-Whitney U Test"
   ]
  },
  {
   "cell_type": "code",
   "execution_count": null,
   "metadata": {},
   "outputs": [],
   "source": [
    "stats, p = mannwhitneyu(df_final['Quantidade'], df_final['PrecoUnitario'])\n",
    "print('Statistics= %.3f, p=%.3f' % (stats, p))\n",
    "# interpret\n",
    "alpha = 0.05\n",
    "if p > alpha:\n",
    "\tprint('Same distribution (Não rejeita H0)')\n",
    "else:\n",
    "\tprint('Different distribution (rejeita H0)')"
   ]
  },
  {
   "cell_type": "code",
   "execution_count": null,
   "metadata": {},
   "outputs": [],
   "source": [
    "stats, p = wilcoxon(df_final['Quantidade'], df_final['PrecoUnitario'])\n",
    "print('Statistics= %.3f, p=%.3f' % (stats, p))\n",
    "# interpret\n",
    "alpha = 0.05\n",
    "if p > alpha:\n",
    "\tprint('Same distribution (Não rejeita H0)')\n",
    "else:\n",
    "\tprint('Different distribution (rejeita H0)')"
   ]
  }
 ],
 "metadata": {
  "kernelspec": {
   "display_name": "Python 3",
   "language": "python",
   "name": "python3"
  },
  "language_info": {
   "codemirror_mode": {
    "name": "ipython",
    "version": 3
   },
   "file_extension": ".py",
   "mimetype": "text/x-python",
   "name": "python",
   "nbconvert_exporter": "python",
   "pygments_lexer": "ipython3",
   "version": "3.9.2"
  },
  "orig_nbformat": 4
 },
 "nbformat": 4,
 "nbformat_minor": 2
}
