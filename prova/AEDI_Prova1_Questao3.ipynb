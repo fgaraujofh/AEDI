{
 "cells": [
  {
   "attachments": {},
   "cell_type": "markdown",
   "metadata": {},
   "source": [
    "# Programa de Pós-Graduação em Computação Aplicada (UnB)\n",
    "## Disciplina: ANÁLISE ESTATÍSTICA DE DADOS E INFORMAÇÕES - Turma 01 - 2023/1\n",
    "## Professor: João Gabriel de Moraes Souza\n",
    "## Aluno: Francisco Gonçalves de Araújo Filho\n",
    "## Matrícula: 231109675\n",
    "### Prova 1 - Questão 3\n",
    "A questão 3 irá se basear na aplicação prática de um problema de ANOVA. Esses problemas são originados de dados reais aplicados em problemas de Negócios. A questão irá abordar a aplicação do problema Vendas de Varejo on-line. Esse problema trata-se do objetivo de as **médias de quantidades e preços dos produtos agrupados por países**. Com esses dados pede-se:"
   ]
  },
  {
   "attachments": {},
   "cell_type": "markdown",
   "metadata": {},
   "source": [
    "### a) Elaborar uma análise descritiva da base de dados, análise gráfica e por tabelas."
   ]
  },
  {
   "cell_type": "code",
   "execution_count": null,
   "metadata": {},
   "outputs": [],
   "source": [
    "# Importando as bibliotecas\n",
    "import pandas as pd\n",
    "import researchpy as rp\n",
    "import statsmodels.api as sm\n",
    "from bioinfokit.analys import stat\n",
    "import matplotlib.pyplot as plt\n",
    "from scipy import stats\n",
    "from scipy.stats import mannwhitneyu\n",
    "from scipy.stats import wilcoxon\n",
    "from scipy.stats import kruskal\n",
    "import seaborn as sns"
   ]
  },
  {
   "cell_type": "code",
   "execution_count": null,
   "metadata": {},
   "outputs": [],
   "source": [
    "# Carrega dados\n",
    "cols = ['NumeroFatura', 'CodigoProduto', 'Descricao',\n",
    "        'Quantidade', 'DataFatura', 'PrecoUnitario',\n",
    "        'IDCliente', 'Pais']\n",
    "\n",
    "df = pd.read_csv('ano_2010-2011.csv', encoding='latin1')\n",
    "df.columns = cols\n",
    "\n",
    "df.head()"
   ]
  },
  {
   "cell_type": "code",
   "execution_count": null,
   "metadata": {},
   "outputs": [],
   "source": [
    "# Limpa Dados\n",
    "# Exclui todas faturas canceladas\n",
    "df = df[~df['NumeroFatura'].str.startswith(('C', 'c'))]\n",
    "\n",
    "# Exclui linhas que tenham valor e quantidades menores ou igual a zero\n",
    "df = df[df[\"Quantidade\"] > 0]\n",
    "df = df[df[\"PrecoUnitario\"] > 0.0]\n",
    "\n",
    "df.head()"
   ]
  },
  {
   "cell_type": "code",
   "execution_count": null,
   "metadata": {},
   "outputs": [],
   "source": [
    "# Agrupa dados comforme enunciado do exercício\n",
    "cols_to_group = ['Pais']\n",
    "df_final = df.groupby(cols_to_group).agg({\"Quantidade\": \"mean\", \"PrecoUnitario\": \"mean\"})\n",
    "df_final = df_final.reset_index()\n",
    "df_final = df_final.dropna()\n",
    "df_final.head()"
   ]
  },
  {
   "cell_type": "code",
   "execution_count": null,
   "metadata": {},
   "outputs": [],
   "source": [
    "# Gerar um gráfico de dispersão entre Quantidade e PrecoUnitario\n",
    "import matplotlib.pyplot as plt\n",
    "plt.scatter(df_final['Quantidade'], df_final['PrecoUnitario'])\n",
    "plt.xlabel('Média de Quantidade')\n",
    "plt.ylabel('Média de Preço Unitário')\n",
    "plt.title('Disperssão Média de Quantidade por Média de Preço Unitário')\n",
    "plt.show()"
   ]
  },
  {
   "attachments": {},
   "cell_type": "markdown",
   "metadata": {},
   "source": [
    "#### Análise dos Gráfico de Disperssão\n",
    "O gráfico de dispersão serve para visualizar a relação entre duas variáveis, neste caso, a media de \"Quantidade\" vendida e e a média \"PrecoUnitario\", agrupados por países.\n",
    "Aparentemente o gráfico não parece ter uma direção de tendência, o que leva a crer não haver relação entre as variáveis.\n",
    "Identifica-se uma grande concentração de pontos com médias de preço entre 0 e 10 e quantidade média vendida entre 0 e 30."
   ]
  },
  {
   "cell_type": "code",
   "execution_count": null,
   "metadata": {},
   "outputs": [],
   "source": [
    "# Gráfico de barras para comparar a média das quantidades entre os países\n",
    "plt.figure(figsize=(12, 6))\n",
    "sns.barplot(x='Pais', y='Quantidade', data=df_final, errorbar=None)\n",
    "plt.xticks(rotation=90)\n",
    "plt.title('Médias das Quantidades por País')\n",
    "plt.show()"
   ]
  },
  {
   "attachments": {},
   "cell_type": "markdown",
   "metadata": {},
   "source": [
    "#### Análise do Histograma de Média de Quantidade por país\n",
    " Gráfico de barras para comparar a média das quantidades entre os países\n",
    "\n",
    " Destaque para média de vendas para Holanda, Suécia, Japão e Austrália"
   ]
  },
  {
   "cell_type": "code",
   "execution_count": null,
   "metadata": {},
   "outputs": [],
   "source": [
    "# Gráfico de barras para comparar a média de Preços Unitários entre os países\n",
    "plt.figure(figsize=(12, 6))\n",
    "sns.barplot(x='Pais', y='PrecoUnitario', data=df_final, errorbar=None)\n",
    "plt.xticks(rotation=90)\n",
    "plt.title('Médias dos preços unitários de produtos consumidos no País')\n",
    "plt.ylabel('Preço Unitário Médio')\n",
    "plt.show()"
   ]
  },
  {
   "attachments": {},
   "cell_type": "markdown",
   "metadata": {},
   "source": [
    "#### Análise do Histograma de Média de Preços Unitários por país\n",
    " Gráfico de barras para comparar a média dos preços unitários de produtos adquiridos pelos países\n",
    "\n",
    " Destaque para média de média de preços em Singapura e Hong Kong. O preço médio dos produtos adquidos em Singapura chegam perto de 60 Libras."
   ]
  },
  {
   "cell_type": "code",
   "execution_count": null,
   "metadata": {},
   "outputs": [],
   "source": [
    "df_lucro = df_final.copy()\n",
    "df_lucro['Lucro'] = df_lucro['Quantidade'] * df_lucro['PrecoUnitario']\n",
    "\n",
    "# Criar o gráfico de barras\n",
    "plt.figure(figsize=(12, 6))\n",
    "sns.barplot(x='Pais', y='Lucro', data=df_lucro, errorbar=None)\n",
    "plt.xticks(rotation=90)\n",
    "plt.title('Estimativa de Lucro Bruto por País')\n",
    "plt.xlabel('País')\n",
    "plt.ylabel('Lucro Bruto')\n",
    "plt.show()"
   ]
  },
  {
   "attachments": {},
   "cell_type": "markdown",
   "metadata": {},
   "source": [
    "#### Análise do Histograma de Lucro Bruto por país\n",
    " Gráfico de barras para comparar a estimativa de lucro por países\n",
    "\n",
    " Destaque para Lucro Bruto em Singapura, Hong Kong e Holana. O lucro no período analisado em Singapura chegam perto de 1400 Libras."
   ]
  },
  {
   "attachments": {},
   "cell_type": "markdown",
   "metadata": {},
   "source": [
    "### b) Realize a Comparação entre a quantidade e o preço agrupados por países (Use ANOVA)"
   ]
  },
  {
   "cell_type": "code",
   "execution_count": null,
   "metadata": {},
   "outputs": [],
   "source": [
    "# Dropa colunas desnecessárias para o teste\n",
    "df_ANOVA = df_final.drop(cols_to_group, axis=1)\n",
    "df_ANOVA.head()"
   ]
  },
  {
   "attachments": {},
   "cell_type": "markdown",
   "metadata": {},
   "source": [
    "#### Modelo de regressão linear utilizando a função OLS (Ordinary Least Squares) \n",
    " Analisando a relação entre as variáveis"
   ]
  },
  {
   "cell_type": "code",
   "execution_count": null,
   "metadata": {},
   "outputs": [],
   "source": [
    "res = sm.formula.ols('Quantidade ~ PrecoUnitario', data=df_ANOVA).fit()\n",
    "print(res.summary())"
   ]
  },
  {
   "attachments": {},
   "cell_type": "markdown",
   "metadata": {},
   "source": [
    "#### Analisando a Regressão\n",
    "Em resumo, a análise indica que a variável \"PrecoUnitario\" não tem uma relação significativa com a quantidade vendida. O modelo de regressão não é estatisticamente significativo e a inclusão do preço unitário não melhora a capacidade de explicar a variabilidade da quantidade.\n",
    "\n",
    " Neste caso, o valor do F-statistic é 0.03545 e o valor p correspondente é 0.852. Como o valor p é maior que 0.05, não há evidências suficientes para rejeitar a hipótese nula de que o modelo não é significativo."
   ]
  },
  {
   "attachments": {},
   "cell_type": "markdown",
   "metadata": {},
   "source": [
    "#### Análise de variância (ANOVA)\n",
    "Realisa uma análise de variância (ANOVA) usando o modelo de regressão linear ajustado anteriormente."
   ]
  },
  {
   "cell_type": "code",
   "execution_count": null,
   "metadata": {},
   "outputs": [],
   "source": [
    "anova_table = sm.stats.anova_lm(res, typ=2)\n",
    "anova_table"
   ]
  },
  {
   "attachments": {},
   "cell_type": "markdown",
   "metadata": {},
   "source": [
    "#### Analisando resultado ANOVA\n",
    "O valor p de 0.851714 indica que não há evidências suficientes para rejeitar a hipótese nula de que não existe diferença significativa nas médias da quantidade entre os grupos definidos pelo preço unitário. **Portanto, não há uma relação estatisticamente significativa entre essas variáveis**.\n",
    "\n",
    "Em resumo, a análise de ANOVA indica que não há diferença significativa nas médias da quantidade entre os grupos definidos pelo preço unitário. O valor p elevado sugere que a variável \"PrecoUnitario\" não é um fator importante para explicar a variação na quantidade vendida."
   ]
  },
  {
   "attachments": {},
   "cell_type": "markdown",
   "metadata": {},
   "source": [
    "### C) Corrigir os problemas dos pressupostos da ANOVA e gerar o modelo mais ajustado para os dados.\n",
    "Para corrigir os problemas dos pressupostos da ANOVA e obter um modelo mais ajustado para os dados passa-se a verificar a normalidade dos resíduos.\n",
    "\n"
   ]
  },
  {
   "attachments": {},
   "cell_type": "markdown",
   "metadata": {},
   "source": [
    "#### QQ-plot (Quantile-Quantile plot) dos resíduos padronizados do modelo ANOVA\n",
    "Verificar se os resíduos seguem uma distribuição normal"
   ]
  },
  {
   "cell_type": "code",
   "execution_count": null,
   "metadata": {},
   "outputs": [],
   "source": [
    "sm.qqplot(res.resid, line='45')\n",
    "plt.xlabel(\"Theoretical Quantiles\")\n",
    "plt.ylabel(\"Standardized Residuals\")\n",
    "plt.show()"
   ]
  },
  {
   "attachments": {},
   "cell_type": "markdown",
   "metadata": {},
   "source": [
    "#### Análise do gráfico\n",
    "O gráfico de QQ-plot mostra a relação entre os quantis teóricos (eixo x) e os resíduos padronizados (eixo y). Se os resíduos seguirem uma distribuição normal, eles devem se alinhar aproximadamente com a linha de referência diagonal (45 graus).\n",
    "\n",
    "Ao interpretar o gráfico, observe se os pontos dos resíduos estão próximos da linha diagonal. A distribuiçao dos pontos sugere que os resíduos não  seguem uma distribuição normal, isso indica que os resíduos podem não seguir uma distribuição normal, sugerindo uma violação das suposições do modelo."
   ]
  },
  {
   "cell_type": "code",
   "execution_count": null,
   "metadata": {},
   "outputs": [],
   "source": [
    "plt.hist(res.resid, bins='auto', histtype='bar', ec='k') \n",
    "plt.xlabel(\"Residuals\")\n",
    "plt.ylabel('Frequency')\n",
    "plt.show()"
   ]
  },
  {
   "attachments": {},
   "cell_type": "markdown",
   "metadata": {},
   "source": [
    "#### Análise do Histograma:\n",
    "O histograma mostra a distribuição dos resíduos do modelo ANOVA. O eixo x representa os valores dos resíduos e o eixo y representa a frequência de ocorrência desses valores.\n",
    "\n",
    "Ao interpretar o histograma, verifica-se que a distribuição não é simétrica. Como a distribuição dos resíduos é assimétrica inica uma violação das suposições do modelo."
   ]
  },
  {
   "attachments": {},
   "cell_type": "markdown",
   "metadata": {},
   "source": [
    "#### Teste de Shapiro-Wilk\n",
    "Realiza o teste de normalidade dos resíduos do modelo estatístico. \n",
    "\n",
    "Teste estatístico utilizado para verificar se uma amostra segue uma distribuição normal."
   ]
  },
  {
   "cell_type": "code",
   "execution_count": null,
   "metadata": {},
   "outputs": [],
   "source": [
    "w, pvalue = stats.shapiro(res.resid)\n",
    "print('Statistics= %.3f, pvalue=%.3f' % (w, pvalue))\n",
    "# interpret\n",
    "alpha = 0.05\n",
    "if pvalue > alpha:\n",
    "\tprint('Resíduo com Distribuição Normal (Não rejeita H0)')\n",
    "else:\n",
    "\tprint('Diferente da Normal (rejeita H0)')"
   ]
  },
  {
   "attachments": {},
   "cell_type": "markdown",
   "metadata": {},
   "source": [
    "#### Análise do Teste\n",
    "O Teste de Shapiro-Wilk também sugere uma violação das suposições do modelo, já que o p-valor é menor 0.05 rejeitando a hipotese nula de normalidade da amostra residual do modelo ajustado."
   ]
  },
  {
   "attachments": {},
   "cell_type": "markdown",
   "metadata": {},
   "source": [
    "#### Teste Kolmogorov-Smirnov\n",
    "Teste de Kolmogorov-Smirnov nos resíduos do modelo para verificar se eles seguem uma distribuição normal"
   ]
  },
  {
   "cell_type": "code",
   "execution_count": null,
   "metadata": {},
   "outputs": [],
   "source": [
    "# perform the Kolmogorov-Smirnov test on the residuals\n",
    "k_statistic, pvalue = stats.kstest(res.resid, 'norm')\n",
    "\n",
    "# print the results and interpret\n",
    "alpha = 0.05\n",
    "if pvalue > alpha:\n",
    "    print('Resíduo com Distribuição Normal (Não rejeita H0)')\n",
    "else:\n",
    "    print('Diferente da Normal (rejeita H0)')\n",
    "\n",
    "print('K-S Statistic= %.3f, pvalue=%.3f' % (k_statistic, pvalue))"
   ]
  },
  {
   "attachments": {},
   "cell_type": "markdown",
   "metadata": {},
   "source": [
    "#### Análise do Teste\n",
    "O Teste de Kolmogorov-Smirnov também sugere uma violação das suposições do modelo, já que o p-valor é menor 0.05 rejeitando a hipotese nula de normalidade da amostra residual do modelo ajustado."
   ]
  },
  {
   "attachments": {},
   "cell_type": "markdown",
   "metadata": {},
   "source": [
    "####  Testes Não paramétrico -> Mann-Whitney U Test\n",
    "teste usado para comparar as distribuições das taxas de retorno entre diferentes grupos. O teste de Mann-Whitney U é um teste não paramétrico utilizado para verificar se duas amostras independentes foram retiradas da mesma população ou se suas distribuições são estatisticamente diferentes."
   ]
  },
  {
   "cell_type": "code",
   "execution_count": null,
   "metadata": {},
   "outputs": [],
   "source": [
    "stats, p = mannwhitneyu(df_ANOVA[\"Quantidade\"], df_ANOVA[\"PrecoUnitario\"])\n",
    "print('Statistics= %.3f, p=%.3f' % (stats, p))\n",
    "# interpret\n",
    "alpha = 0.05\n",
    "if p > alpha:\n",
    "\tprint('Same distribution (Não rejeita H0)')\n",
    "else:\n",
    "\tprint('Different distribution (rejeita H0)')"
   ]
  },
  {
   "attachments": {},
   "cell_type": "markdown",
   "metadata": {},
   "source": [
    "#### Análise da saída\n",
    "O teste Mann-Whitney U foi aplicado para comparar as distribuições das taxas de retorno entre o retorno da \"Quantidade\" e o índice \"PrecoUnitacio\". O resultado apresentado foi:\n",
    "\n",
    "O valor p é igual a 0.000, que é menor do que alpha (0,05). Isso indica que as evidências disponíveis são suficientes para rejeitar a hipótese nula de que as amostras têm a mesma distribuição. Portanto, podemos afirmar \"Different distribution (rejeita H0)\", ou seja, as **amostras são provenientes de distribuições diferentes**."
   ]
  },
  {
   "attachments": {},
   "cell_type": "markdown",
   "metadata": {},
   "source": [
    "#### Testes Não paramétrico -> Wilcoxon signed-rank"
   ]
  },
  {
   "cell_type": "code",
   "execution_count": null,
   "metadata": {},
   "outputs": [],
   "source": [
    "stats, p = wilcoxon(df_ANOVA[\"Quantidade\"], df_ANOVA[\"PrecoUnitario\"])\n",
    "print('Statistics= %.3f, p=%.3f' % (stats, p))\n",
    "# interpret\n",
    "alpha = 0.05\n",
    "if p > alpha:\n",
    "\tprint('Same distribution (Não rejeita H0)')\n",
    "else:\n",
    "\tprint('Different distribution (rejeita H0)')"
   ]
  },
  {
   "attachments": {},
   "cell_type": "markdown",
   "metadata": {},
   "source": [
    "#### Análise do Teste\n",
    "O teste de Wilcoxon, também conhecido como teste de Wilcoxon assinado ou teste de Mann-Whitney assinado. Ele é usado para comparar duas amostras pareadas ou dependentes, quando as observações em cada par não são independentes.\n",
    "\n",
    "No caso, o valor p é igual a 0.000, que é menor do que alpha (0.05). Isso indica que as evidências disponíveis são suficientes para rejeitar a hipótese nula de que as amostras de 'Quantidade' e 'PrecoUnitario' têm a mesma distribuição. Portanto, podemos afirmar \"Different distribution (rejeita H0)\", ou seja, as **amostras são provenientes de distribuições diferentes**."
   ]
  },
  {
   "attachments": {},
   "cell_type": "markdown",
   "metadata": {},
   "source": [
    "### d) Interpretar os resultados e evidenciar as principais tomadas de decis~oes possívesi com os resultados encontrados."
   ]
  },
  {
   "attachments": {},
   "cell_type": "markdown",
   "metadata": {},
   "source": [
    "Todos os testes realizados indicam que **não há uma relação estatisticamente** significativa entre a média de Quantidade de produtos e média do valor os itens vendidos, quando agrupados por país. Portanto as estratégias a serem tomadas não devem levar em consideração essas variáveis.\n",
    "\n",
    "Entende-se que a empresa responsável pelo comércio a varejo on-line deva investir em propaganda e programa de incentivos para aumentar lucro bruto por país.\n",
    "Para isso, uma opção é promover produtos mais caras em países que compram mais, como Australia, Japão, Holanda e Suécia, segundo o modelo de comércio aplicando em Singapura, que te o maior preço unitário médio de produtos comercializados naquele país. Já que, apesar de não ser uns dos países mais consumidores do varejo, é Singapura que dá um maior retorno financeiro."
   ]
  }
 ],
 "metadata": {
  "kernelspec": {
   "display_name": "Python 3",
   "language": "python",
   "name": "python3"
  },
  "language_info": {
   "codemirror_mode": {
    "name": "ipython",
    "version": 3
   },
   "file_extension": ".py",
   "mimetype": "text/x-python",
   "name": "python",
   "nbconvert_exporter": "python",
   "pygments_lexer": "ipython3",
   "version": "3.9.2"
  },
  "orig_nbformat": 4
 },
 "nbformat": 4,
 "nbformat_minor": 2
}
